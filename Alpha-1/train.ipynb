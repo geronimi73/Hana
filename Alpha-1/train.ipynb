{
 "cells": [
  {
   "cell_type": "code",
   "execution_count": null,
   "id": "610d29a7-90d0-4aea-a535-56f2ee26145c",
   "metadata": {},
   "outputs": [],
   "source": [
    "!pip install transformers accelerate datasets diffusers Pillow==9.4.0 wandb"
   ]
  },
  {
   "cell_type": "code",
   "execution_count": null,
   "id": "7d3b5480-1946-4962-9946-2b619c992769",
   "metadata": {},
   "outputs": [],
   "source": [
    "from utils import PIL_to_latent, latent_to_PIL, make_grid, encode_prompt, dcae_scalingf"
   ]
  },
  {
   "cell_type": "code",
   "execution_count": null,
   "id": "60395d2d-a5f3-432d-9d29-cc3e6adf8774",
   "metadata": {},
   "outputs": [],
   "source": [
    "import torch, torch.nn.functional as F, random, wandb, time\n",
    "import torchvision.transforms as T\n",
    "from diffusers import AutoencoderDC, SanaTransformer2DModel\n",
    "from diffusers.schedulers import FlowMatchEulerDiscreteScheduler\n",
    "from transformers import Gemma2Model, GemmaTokenizerFast\n",
    "from datasets import load_dataset, Dataset, DatasetDict\n",
    "from tqdm import tqdm"
   ]
  },
  {
   "cell_type": "code",
   "execution_count": null,
   "id": "539a7f32-9159-48ca-9706-5b0566415fa4",
   "metadata": {},
   "outputs": [],
   "source": [
    "model = \"Efficient-Large-Model/Sana_600M_1024px_diffusers\"\n",
    "dtype = torch.bfloat16\n",
    "device = \"cuda\" if torch.cuda.is_available() else \"mps\" if torch.mps.is_available() else \"cpu\"\n",
    "\n",
    "transformer = SanaTransformer2DModel.from_config(\"transformer_config.json\", torch_dtype=dtype).to(device)\n",
    "dcae = AutoencoderDC.from_pretrained(model, subfolder=\"vae\", torch_dtype=dtype).to(device)\n",
    "text_encoder = Gemma2Model.from_pretrained(model, subfolder=\"text_encoder\", torch_dtype=dtype).to(device)\n",
    "tokenizer = GemmaTokenizerFast.from_pretrained(model, subfolder=\"tokenizer\", torch_dtype=dtype)\n",
    "scheduler = FlowMatchEulerDiscreteScheduler.from_pretrained(model, subfolder=\"scheduler\")"
   ]
  },
  {
   "cell_type": "markdown",
   "id": "2239874e-8912-4d43-a18b-bc764091aecc",
   "metadata": {},
   "source": [
    "# Load dataset"
   ]
  },
  {
   "cell_type": "code",
   "execution_count": null,
   "id": "cac1606a-db13-4d7d-868e-52ed9d1f6738",
   "metadata": {},
   "outputs": [],
   "source": [
    "ds = load_dataset(\"g-ronimo/MNIST-latents_dc-ae-f32c32-sana-1.0\")\n",
    "\n",
    "mnist_labels_encoded={i: encode_prompt(str(i), tokenizer, text_encoder) for i in range(10)}\n",
    "\n",
    "len(mnist_labels_encoded[0]), mnist_labels_encoded[0][0].shape, mnist_labels_encoded[0][1].shape"
   ]
  },
  {
   "cell_type": "markdown",
   "id": "cb384ce1-f799-4cdd-8b0e-82c6422abde6",
   "metadata": {},
   "source": [
    "# Training \"data loader\" and helper functions"
   ]
  },
  {
   "cell_type": "code",
   "execution_count": null,
   "id": "3b9f601c-ac1c-4292-9799-11bf41991919",
   "metadata": {},
   "outputs": [],
   "source": [
    "def get_sample(split=\"train\", sample_no=None):\n",
    "    d = ds[split][random.randint(0, len(ds[split])-1) if sample_no is None else sample_no]\n",
    "    label, latent = d[\"label\"], d[\"latent\"]\n",
    "    prompt_encoded, prompt_atnmask = mnist_labels_encoded[label]\n",
    "    return label, torch.Tensor(latent).to(device).to(dtype), prompt_encoded, prompt_atnmask\n",
    "\n",
    "label, latent, prompt_encoded, prompt_atnmask = get_sample(\"train\")\n",
    "label, (latent.shape, latent.device, latent.dtype), (prompt_encoded.shape, prompt_encoded.device, prompt_encoded.dtype), (prompt_atnmask.shape,prompt_atnmask.device, prompt_atnmask.dtype)"
   ]
  },
  {
   "cell_type": "code",
   "execution_count": null,
   "id": "670f601e-5383-4f49-8d6f-a534f42e63ce",
   "metadata": {},
   "outputs": [],
   "source": [
    "def eval_loss(num_samples=100):\n",
    "    losses = []\n",
    "    for i in tqdm(range(num_samples)):\n",
    "        label, latent, prompt_encoded, prompt_atnmask = get_sample(\"test\", i)\n",
    "        noise = torch.randn(latent.shape).to(dtype).to(device)\n",
    "        timestep = scheduler.timesteps[random.randint(0, diffuser_timesteps-1)].unsqueeze(0).to(device)\n",
    "        latent_noisy = scheduler.scale_noise(latent, timestep, noise)\n",
    "        with torch.no_grad():\n",
    "            noise_pred = transformer(latent_noisy, encoder_hidden_states = prompt_encoded, encoder_attention_mask = prompt_atnmask, timestep = timestep, return_dict=False)[0]\n",
    "        loss = F.mse_loss(noise_pred, noise - latent)\n",
    "        losses.append(loss.item())\n",
    "    return sum(losses)/len(losses)"
   ]
  },
  {
   "cell_type": "code",
   "execution_count": null,
   "id": "77a90e44-c1c3-4d53-967d-8c3158bcf484",
   "metadata": {},
   "outputs": [],
   "source": [
    "def generate(prompt, steps=10, latent_dim=[1, 32, 8, 8], latent_seed=42):\n",
    "    scheduler.set_timesteps(steps)\n",
    "    prompt_encoded, prompt_atnmask = encode_prompt(prompt, tokenizer, text_encoder)\n",
    "    latents = torch.randn(latent_dim, generator = torch.manual_seed(latent_seed) if latent_seed else None).to(dtype).to(device)\n",
    "\n",
    "    for t_idx in tqdm(range(steps)):\n",
    "        t = scheduler.timesteps[t_idx].unsqueeze(0).to(device)\n",
    "        with torch.no_grad():\n",
    "            noise_pred = transformer(latents, encoder_hidden_states=prompt_encoded, timestep=t, encoder_attention_mask=prompt_atnmask, return_dict=False)[0]\n",
    "        latents = scheduler.step(noise_pred, t, latents, return_dict=False)[0]\n",
    "    return latent_to_PIL(latents / dcae_scalingf, dcae)"
   ]
  },
  {
   "cell_type": "markdown",
   "id": "894d9761-8eaa-4f23-bfad-cc5fa3ce923f",
   "metadata": {},
   "source": [
    "# Train"
   ]
  },
  {
   "cell_type": "code",
   "execution_count": null,
   "id": "02081c1d-e87c-438c-a54f-81d9704125da",
   "metadata": {},
   "outputs": [],
   "source": [
    "log_wandb = True\n",
    "lr = 1e-4\n",
    "epochs = 5\n",
    "steps = len(ds[\"train\"])\n",
    "steps_log = 20\n",
    "steps_eval = 200\n",
    "bs = 1\n",
    "diffuser_timesteps = 10\n",
    "\n",
    "optimizer = torch.optim.AdamW(transformer.parameters(), lr=lr)\n",
    "scheduler.set_timesteps(diffuser_timesteps)\n",
    "\n",
    "transformer=transformer.to(dtype).train()\n",
    "\n",
    "model_size = sum(p.numel() for p in transformer.parameters() if p.requires_grad)\n",
    "print(f\"Number of parameters: {model_size / 1e6:.2f}M\")"
   ]
  },
  {
   "cell_type": "code",
   "execution_count": null,
   "id": "680e066f-ff72-4744-bf0c-a6fd090b4241",
   "metadata": {},
   "outputs": [],
   "source": [
    "if log_wandb: wandb.init(project=\"Hana\", name=f\"Z-{model_size / 1e6:.2f}M_MNIST_LR-{lr}_BS-{bs}_10-TS_imageEval-RUNPOD3090\").log_code(\".\")\n",
    "losses = [] \n",
    "t_start, last_step_time = time.time(), time.time()\n",
    "\n",
    "for epoch in range(epochs):\n",
    "    for step in range(steps):\n",
    "        transformer.train()\n",
    "        label, latent, prompt_encoded, prompt_atnmask = get_sample()\n",
    "        noise = torch.randn(latent.shape).to(dtype).to(device)\n",
    "        timestep = scheduler.timesteps[random.randint(0, diffuser_timesteps-1)].unsqueeze(0).to(device)\n",
    "        latent_noisy = scheduler.scale_noise(latent, timestep, noise)\n",
    "        \n",
    "        noise_pred = transformer(\n",
    "            latent_noisy, \n",
    "            encoder_hidden_states = prompt_encoded, \n",
    "            encoder_attention_mask = prompt_atnmask, \n",
    "            timestep = timestep, \n",
    "            return_dict=False\n",
    "        )[0]\n",
    "    \n",
    "        loss = F.mse_loss(noise_pred, noise - latent)\n",
    "        loss.backward()\n",
    "        optimizer.step()\n",
    "        optimizer.zero_grad()\n",
    "        \n",
    "        losses.append(loss.item())\n",
    "        \n",
    "        if step >0 and step % steps_log == 0:\n",
    "            loss_train = sum(losses[-steps_log:])/steps_log\n",
    "            step_time = (time.time() - last_step_time) / steps_log * 1000\n",
    "            print(f\"step {step}, train loss {loss_train:.4f}, {step_time:.2f}ms/step\")\n",
    "            last_step_time = time.time()\n",
    "            if log_wandb: wandb.log({\"loss_train\": loss_train, \"step_time\": step_time, \"step\": step, \"epoch\": (epoch-1)+(step/steps)})\n",
    "    \n",
    "        if step >0 and step % steps_eval == 0:\n",
    "            transformer.eval()\n",
    "            loss_eval = eval_loss()\n",
    "            images_eval = make_grid([generate(str(p)) for p in range(10)], 2, 5)\n",
    "            print(f\"step {step}, eval loss {loss_eval:.4f}\")\n",
    "            if log_wandb: wandb.log({\"loss_eval\": loss_eval, \"images_eval\": wandb.Image(images_eval), \"step\": step, \"epoch\": (epoch-1)+(step/steps)})\n"
   ]
  },
  {
   "cell_type": "code",
   "execution_count": null,
   "id": "de6ec19c-1862-4c89-b46d-6206fd4f8d07",
   "metadata": {},
   "outputs": [],
   "source": [
    "transformer.push_to_hub(f\"g-ronimo/hana-small_MNIST-{epochs}e\")"
   ]
  }
 ],
 "metadata": {
  "kernelspec": {
   "display_name": "Python 3 (ipykernel)",
   "language": "python",
   "name": "python3"
  },
  "language_info": {
   "codemirror_mode": {
    "name": "ipython",
    "version": 3
   },
   "file_extension": ".py",
   "mimetype": "text/x-python",
   "name": "python",
   "nbconvert_exporter": "python",
   "pygments_lexer": "ipython3",
   "version": "3.12.4"
  }
 },
 "nbformat": 4,
 "nbformat_minor": 5
}
