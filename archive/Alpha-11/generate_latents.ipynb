{
 "cells": [
  {
   "cell_type": "code",
   "execution_count": null,
   "id": "6b5722e1-0cc5-40b8-939a-986b390ad9f6",
   "metadata": {},
   "outputs": [],
   "source": [
    "!pip install transformers accelerate datasets diffusers Pillow==9.4.0"
   ]
  },
  {
   "cell_type": "markdown",
   "id": "d2ad5371-db09-42a4-aaf1-f396e4080292",
   "metadata": {},
   "source": [
    "# Load MNIST"
   ]
  },
  {
   "cell_type": "code",
   "execution_count": 1,
   "id": "17513fca-70d2-4a7a-a566-33f50d0831eb",
   "metadata": {},
   "outputs": [],
   "source": [
    "from datasets import load_dataset, Dataset, DatasetDict\n",
    "\n",
    "ds = load_dataset(\"uoft-cs/cifar10\")"
   ]
  },
  {
   "cell_type": "code",
   "execution_count": 2,
   "id": "4cd83816-e57c-4a01-a769-b62b20e4e972",
   "metadata": {},
   "outputs": [
    {
     "data": {
      "text/plain": [
       "Dataset({\n",
       "    features: ['img', 'label'],\n",
       "    num_rows: 50000\n",
       "})"
      ]
     },
     "execution_count": 2,
     "metadata": {},
     "output_type": "execute_result"
    }
   ],
   "source": [
    "ds[\"train\"]"
   ]
  },
  {
   "cell_type": "code",
   "execution_count": 3,
   "id": "579e6e95-5c99-44c1-b9ac-adbdc2c7b9d1",
   "metadata": {},
   "outputs": [
    {
     "data": {
      "text/plain": [
       "{'img': <PIL.PngImagePlugin.PngImageFile image mode=RGB size=32x32>,\n",
       " 'label': 0}"
      ]
     },
     "execution_count": 3,
     "metadata": {},
     "output_type": "execute_result"
    }
   ],
   "source": [
    "d=ds[\"train\"][0]\n",
    "d"
   ]
  },
  {
   "cell_type": "markdown",
   "id": "21db05f1-a7ad-4255-b2fe-3b9750e1be8d",
   "metadata": {},
   "source": [
    "# Load DCAE"
   ]
  },
  {
   "cell_type": "code",
   "execution_count": 4,
   "id": "1bcf9559-35ee-4751-aeca-d418a5bf21d5",
   "metadata": {},
   "outputs": [],
   "source": [
    "import torch\n",
    "from diffusers import AutoencoderDC\n",
    "from transformers import Gemma2Model, GemmaTokenizerFast\n",
    "\n",
    "model = \"Efficient-Large-Model/Sana_600M_1024px_diffusers\"\n",
    "dtype = torch.bfloat16\n",
    "device = \"cuda\" if torch.cuda.is_available() else \"mps\" if torch.mps.is_available() else \"cpu\"\n",
    "\n",
    "dcae = AutoencoderDC.from_pretrained(model, subfolder=\"vae\", torch_dtype=dtype).to(device)"
   ]
  },
  {
   "cell_type": "markdown",
   "id": "eaa8442c-3845-4468-b5a5-47274afeb378",
   "metadata": {},
   "source": [
    "# PIL to latent"
   ]
  },
  {
   "cell_type": "code",
   "execution_count": 11,
   "id": "19faeb67-7df2-4026-b6d6-1c4272657f24",
   "metadata": {},
   "outputs": [
    {
     "data": {
      "text/plain": [
       "torch.Size([1, 32, 2, 2])"
      ]
     },
     "execution_count": 11,
     "metadata": {},
     "output_type": "execute_result"
    }
   ],
   "source": [
    "import torchvision.transforms as T\n",
    "\n",
    "def encode_pil(image, ae):\n",
    "    # MNIST inputs are grayscale/BW\n",
    "    image = image.convert('RGB')\n",
    "    transform = T.Compose([\n",
    "        T.Resize(64, antialias=True),\n",
    "        T.ToTensor(),\n",
    "        T.Normalize((0.5, 0.5, 0.5), (0.5, 0.5, 0.5)),\n",
    "        lambda x: x.to(dtype=torch.bfloat16)\n",
    "    ])\n",
    "\n",
    "    image_tensor = transform(image)[None].to(device)\n",
    "\n",
    "    with torch.no_grad():\n",
    "        latent = ae.encode(image_tensor)\n",
    "    return latent.latent\n",
    "\n",
    "latent = encode_pil(d[\"img\"], dcae)\n",
    "latent.shape"
   ]
  },
  {
   "cell_type": "code",
   "execution_count": 12,
   "id": "64cedb40-9256-400c-9069-c305ae1d2917",
   "metadata": {},
   "outputs": [
    {
     "data": {
      "image/png": "[encoded data removed]",
      "text/plain": [
       "<PIL.Image.Image image mode=RGB size=64x64>"
      ]
     },
     "execution_count": 12,
     "metadata": {},
     "output_type": "execute_result"
    }
   ],
   "source": [
    "from utils import latent_to_PIL\n",
    "latent_to_PIL(latent, dcae)"
   ]
  },
  {
   "cell_type": "markdown",
   "id": "45ad6555-7546-4657-bfa3-8e206448a6cd",
   "metadata": {},
   "source": [
    "# Process CIFAR10 and upload"
   ]
  },
  {
   "cell_type": "code",
   "execution_count": 14,
   "id": "8a360366-baf9-4030-8a8f-1f883da21d9f",
   "metadata": {},
   "outputs": [
    {
     "name": "stdout",
     "output_type": "stream",
     "text": [
      "train\n"
     ]
    },
    {
     "name": "stderr",
     "output_type": "stream",
     "text": [
      "100%|█████████████████████████████████████| 50000/50000 [09:24<00:00, 88.54it/s]\n"
     ]
    },
    {
     "name": "stdout",
     "output_type": "stream",
     "text": [
      "test\n"
     ]
    },
    {
     "name": "stderr",
     "output_type": "stream",
     "text": [
      "100%|█████████████████████████████████████| 10000/10000 [01:53<00:00, 88.33it/s]\n"
     ]
    }
   ],
   "source": [
    "from tqdm import tqdm\n",
    "\n",
    "dataset_latents = {}\n",
    "splits = [\"train\", \"test\"]\n",
    "\n",
    "for split in splits:\n",
    "    print(split)\n",
    "    dataset_latents[split]=[]\n",
    "    \n",
    "    for d in tqdm(ds[split]):\n",
    "        pil, label = d[\"img\"], d[\"label\"]\n",
    "        latent = encode_pil(pil, dcae).float().cpu()\n",
    "        dataset_latents[split].append({\n",
    "            \"label\": label,\n",
    "            \"latent\": latent.numpy()\n",
    "        })"
   ]
  },
  {
   "cell_type": "code",
   "execution_count": 15,
   "id": "36bfa419-61ae-474d-b8e8-37ba4e73de69",
   "metadata": {},
   "outputs": [
    {
     "data": {
      "text/plain": [
       "DatasetDict({\n",
       "    train: Dataset({\n",
       "        features: ['label', 'latent'],\n",
       "        num_rows: 50000\n",
       "    })\n",
       "    test: Dataset({\n",
       "        features: ['label', 'latent'],\n",
       "        num_rows: 10000\n",
       "    })\n",
       "})"
      ]
     },
     "execution_count": 15,
     "metadata": {},
     "output_type": "execute_result"
    }
   ],
   "source": [
    "dataset = DatasetDict({split: Dataset.from_list(dataset_latents[split]) for split in splits})\n",
    "dataset"
   ]
  },
  {
   "cell_type": "code",
   "execution_count": 16,
   "id": "b6ddb4a3-b425-41ac-a19f-34cfed1db8b3",
   "metadata": {},
   "outputs": [
    {
     "data": {
      "application/vnd.jupyter.widget-view+json": {
       "model_id": "a9c77b6ae7ce43d3b8ad6979cbef978c",
       "version_major": 2,
       "version_minor": 0
      },
      "text/plain": [
       "Uploading the dataset shards:   0%|          | 0/1 [00:00<?, ?it/s]"
      ]
     },
     "metadata": {},
     "output_type": "display_data"
    },
    {
     "data": {
      "application/vnd.jupyter.widget-view+json": {
       "model_id": "94624df0eb8948f78fda51689f77b166",
       "version_major": 2,
       "version_minor": 0
      },
      "text/plain": [
       "Creating parquet from Arrow format:   0%|          | 0/50 [00:00<?, ?ba/s]"
      ]
     },
     "metadata": {},
     "output_type": "display_data"
    },
    {
     "data": {
      "application/vnd.jupyter.widget-view+json": {
       "model_id": "39a256a2387b440cab8b486723736e3f",
       "version_major": 2,
       "version_minor": 0
      },
      "text/plain": [
       "Uploading the dataset shards:   0%|          | 0/1 [00:00<?, ?it/s]"
      ]
     },
     "metadata": {},
     "output_type": "display_data"
    },
    {
     "data": {
      "application/vnd.jupyter.widget-view+json": {
       "model_id": "d760ec3cf34846c8a1085d088e096fcb",
       "version_major": 2,
       "version_minor": 0
      },
      "text/plain": [
       "Creating parquet from Arrow format:   0%|          | 0/10 [00:00<?, ?ba/s]"
      ]
     },
     "metadata": {},
     "output_type": "display_data"
    },
    {
     "data": {
      "text/plain": [
       "CommitInfo(commit_url='https://huggingface.co/datasets/g-ronimo/CIFAR10-64-latents_dc-ae-f32c32-sana-1.0/commit/84eef69e3c1cffccacac8efb2363e58a55f3142c', commit_message='Efficient-Large-Model/Sana_600M_1024px_diffusers', commit_description='', oid='84eef69e3c1cffccacac8efb2363e58a55f3142c', pr_url=None, repo_url=RepoUrl('https://huggingface.co/datasets/g-ronimo/CIFAR10-64-latents_dc-ae-f32c32-sana-1.0', endpoint='https://huggingface.co', repo_type='dataset', repo_id='g-ronimo/CIFAR10-64-latents_dc-ae-f32c32-sana-1.0'), pr_revision=None, pr_num=None)"
      ]
     },
     "execution_count": 16,
     "metadata": {},
     "output_type": "execute_result"
    }
   ],
   "source": [
    "dataset.push_to_hub(\"g-ronimo/CIFAR10-64-latents_dc-ae-f32c32-sana-1.0\", private=True, commit_message=model)"
   ]
  }
 ],
 "metadata": {
  "kernelspec": {
   "display_name": "Python 3 (ipykernel)",
   "language": "python",
   "name": "python3"
  },
  "language_info": {
   "codemirror_mode": {
    "name": "ipython",
    "version": 3
   },
   "file_extension": ".py",
   "mimetype": "text/x-python",
   "name": "python",
   "nbconvert_exporter": "python",
   "pygments_lexer": "ipython3",
   "version": "3.10.12"
  }
 },
 "nbformat": 4,
 "nbformat_minor": 5
}
