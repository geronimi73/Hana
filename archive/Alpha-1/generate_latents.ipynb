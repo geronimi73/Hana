{
 "cells": [
  {
   "cell_type": "code",
   "execution_count": null,
   "id": "6b5722e1-0cc5-40b8-939a-986b390ad9f6",
   "metadata": {},
   "outputs": [],
   "source": [
    "!pip install transformers accelerate datasets diffusers Pillow==9.4.0"
   ]
  },
  {
   "cell_type": "markdown",
   "id": "d2ad5371-db09-42a4-aaf1-f396e4080292",
   "metadata": {},
   "source": [
    "# Load MNIST"
   ]
  },
  {
   "cell_type": "code",
   "execution_count": null,
   "id": "17513fca-70d2-4a7a-a566-33f50d0831eb",
   "metadata": {},
   "outputs": [],
   "source": [
    "from datasets import load_dataset, Dataset, DatasetDict\n",
    "\n",
    "ds = load_dataset(\"ylecun/mnist\")"
   ]
  },
  {
   "cell_type": "code",
   "execution_count": null,
   "id": "4cd83816-e57c-4a01-a769-b62b20e4e972",
   "metadata": {},
   "outputs": [],
   "source": [
    "ds[\"train\"]"
   ]
  },
  {
   "cell_type": "code",
   "execution_count": null,
   "id": "579e6e95-5c99-44c1-b9ac-adbdc2c7b9d1",
   "metadata": {},
   "outputs": [],
   "source": [
    "d=ds[\"train\"][0]\n",
    "d"
   ]
  },
  {
   "cell_type": "markdown",
   "id": "21db05f1-a7ad-4255-b2fe-3b9750e1be8d",
   "metadata": {},
   "source": [
    "# Load DCAE"
   ]
  },
  {
   "cell_type": "code",
   "execution_count": null,
   "id": "1bcf9559-35ee-4751-aeca-d418a5bf21d5",
   "metadata": {},
   "outputs": [],
   "source": [
    "import torch\n",
    "from diffusers import AutoencoderDC\n",
    "from transformers import Gemma2Model, GemmaTokenizerFast\n",
    "\n",
    "model = \"Efficient-Large-Model/Sana_600M_1024px_diffusers\"\n",
    "dtype = torch.bfloat16\n",
    "device = \"cuda\" if torch.cuda.is_available() else \"mps\" if torch.mps.is_available() else \"cpu\"\n",
    "\n",
    "dcae = AutoencoderDC.from_pretrained(model, subfolder=\"vae\", torch_dtype=dtype).to(device)"
   ]
  },
  {
   "cell_type": "markdown",
   "id": "eaa8442c-3845-4468-b5a5-47274afeb378",
   "metadata": {},
   "source": [
    "# PIL to latent"
   ]
  },
  {
   "cell_type": "code",
   "execution_count": null,
   "id": "19faeb67-7df2-4026-b6d6-1c4272657f24",
   "metadata": {},
   "outputs": [],
   "source": [
    "import torchvision.transforms as T\n",
    "\n",
    "def encode_pil(image, ae):\n",
    "    # MNIST inputs are grayscale/BW\n",
    "    image = image.convert('RGB')\n",
    "    transform = T.Compose([\n",
    "        T.Resize(256, antialias=True),\n",
    "        T.ToTensor(),\n",
    "        T.Normalize((0.5, 0.5, 0.5), (0.5, 0.5, 0.5)),\n",
    "        lambda x: x.to(dtype=torch.bfloat16)\n",
    "    ])\n",
    "\n",
    "    image_tensor = transform(image)[None].to(device)\n",
    "\n",
    "    with torch.no_grad():\n",
    "        latent = ae.encode(image_tensor)\n",
    "    return latent.latent\n",
    "\n",
    "latent = encode_pil(d[\"image\"], dcae)\n",
    "latent.shape"
   ]
  },
  {
   "cell_type": "markdown",
   "id": "45ad6555-7546-4657-bfa3-8e206448a6cd",
   "metadata": {},
   "source": [
    "# Process MNIST and upload"
   ]
  },
  {
   "cell_type": "code",
   "execution_count": null,
   "id": "8a360366-baf9-4030-8a8f-1f883da21d9f",
   "metadata": {},
   "outputs": [],
   "source": [
    "from tqdm import tqdm\n",
    "\n",
    "dataset_latents = {}\n",
    "splits = [\"train\", \"test\"]\n",
    "\n",
    "for split in splits:\n",
    "    print(split)\n",
    "    dataset_latents[split]=[]\n",
    "    \n",
    "    for d in tqdm(ds[split]):\n",
    "        pil, label = d[\"image\"], d[\"label\"]\n",
    "        latent = encode_pil(pil, dcae).float().cpu()\n",
    "        dataset_latents[split].append({\n",
    "            \"label\": label,\n",
    "            \"latent\": latent.numpy()\n",
    "        })"
   ]
  },
  {
   "cell_type": "code",
   "execution_count": null,
   "id": "36bfa419-61ae-474d-b8e8-37ba4e73de69",
   "metadata": {},
   "outputs": [],
   "source": [
    "dataset = DatasetDict({split: Dataset.from_list(dataset_latents[split]) for split in splits})\n",
    "dataset"
   ]
  },
  {
   "cell_type": "code",
   "execution_count": null,
   "id": "b6ddb4a3-b425-41ac-a19f-34cfed1db8b3",
   "metadata": {},
   "outputs": [],
   "source": [
    "dataset.push_to_hub(\"g-ronimo/MNIST-latents_dc-ae-f32c32-sana-1.0\", private=True, commit_message=model)"
   ]
  }
 ],
 "metadata": {
  "kernelspec": {
   "display_name": "Python 3 (ipykernel)",
   "language": "python",
   "name": "python3"
  },
  "language_info": {
   "codemirror_mode": {
    "name": "ipython",
    "version": 3
   },
   "file_extension": ".py",
   "mimetype": "text/x-python",
   "name": "python",
   "nbconvert_exporter": "python",
   "pygments_lexer": "ipython3",
   "version": "3.12.4"
  }
 },
 "nbformat": 4,
 "nbformat_minor": 5
}
