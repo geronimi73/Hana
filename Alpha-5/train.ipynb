{
 "cells": [
  {
   "cell_type": "code",
   "execution_count": 1,
   "id": "610d29a7-90d0-4aea-a535-56f2ee26145c",
   "metadata": {},
   "outputs": [],
   "source": [
    "# !pip install transformers accelerate datasets diffusers Pillow==9.4.0 wandb"
   ]
  },
  {
   "cell_type": "code",
   "execution_count": 2,
   "id": "7a076321-f9eb-4f7d-b3fd-a0b0b418d683",
   "metadata": {},
   "outputs": [
    {
     "name": "stderr",
     "output_type": "stream",
     "text": [
      "\u001b[34m\u001b[1mwandb\u001b[0m: Currently logged in as: \u001b[33mg-ronimo\u001b[0m. Use \u001b[1m`wandb login --relogin`\u001b[0m to force relogin\n",
      "\u001b[34m\u001b[1mwandb\u001b[0m: \u001b[33mWARNING\u001b[0m If you're specifying your api key in code, ensure this code is not shared publicly.\n",
      "\u001b[34m\u001b[1mwandb\u001b[0m: \u001b[33mWARNING\u001b[0m Consider setting the WANDB_API_KEY environment variable, or running `wandb login` from the command line.\n",
      "\u001b[34m\u001b[1mwandb\u001b[0m: Appending key for api.wandb.ai to your netrc file: /root/.netrc\n"
     ]
    },
    {
     "data": {
      "text/plain": [
       "True"
      ]
     },
     "execution_count": 2,
     "metadata": {},
     "output_type": "execute_result"
    }
   ],
   "source": [
    "from local_secrets import hf_token, wandb_key\n",
    "from huggingface_hub import login\n",
    "import wandb\n",
    "\n",
    "login(token=hf_token)\n",
    "wandb.login(key=wandb_key)"
   ]
  },
  {
   "cell_type": "code",
   "execution_count": 3,
   "id": "60395d2d-a5f3-432d-9d29-cc3e6adf8774",
   "metadata": {},
   "outputs": [],
   "source": [
    "import torch, torch.nn.functional as F, random, wandb, time\n",
    "import torchvision.transforms as T\n",
    "from diffusers import AutoencoderDC, SanaTransformer2DModel\n",
    "from diffusers.schedulers import FlowMatchEulerDiscreteScheduler\n",
    "from transformers import AutoModel, AutoTokenizer\n",
    "from datasets import load_dataset, Dataset, DatasetDict\n",
    "from tqdm import tqdm\n",
    "\n",
    "from utils import PIL_to_latent, latent_to_PIL, make_grid, encode_prompt, dcae_scalingf, load_imagenet_labels"
   ]
  },
  {
   "cell_type": "code",
   "execution_count": 4,
   "id": "539a7f32-9159-48ca-9706-5b0566415fa4",
   "metadata": {},
   "outputs": [
    {
     "name": "stderr",
     "output_type": "stream",
     "text": [
      "/usr/local/lib/python3.10/dist-packages/diffusers/configuration_utils.py:245: FutureWarning: It is deprecated to pass a pretrained model name or path to `from_config`.If you were trying to load a model, please use <class 'diffusers.models.transformers.sana_transformer.SanaTransformer2DModel'>.load_config(...) followed by <class 'diffusers.models.transformers.sana_transformer.SanaTransformer2DModel'>.from_config(...) instead. Otherwise, please make sure to pass a configuration dictionary instead. This functionality will be removed in v1.0.0.\n",
      "  deprecate(\"config-passed-as-path\", \"1.0.0\", deprecation_message, standard_warn=False)\n"
     ]
    }
   ],
   "source": [
    "model = \"Efficient-Large-Model/Sana_600M_1024px_diffusers\"\n",
    "dtype = torch.bfloat16\n",
    "device = \"cuda\" if torch.cuda.is_available() else \"mps\" if torch.mps.is_available() else \"cpu\"\n",
    "\n",
    "transformer = SanaTransformer2DModel.from_config(\"transformer_Sana-7L-MBERT_config.json\", torch_dtype=dtype).to(device)\n",
    "dcae = AutoencoderDC.from_pretrained(model, subfolder=\"vae\", torch_dtype=dtype).to(device)\n",
    "\n",
    "text_encoder = AutoModel.from_pretrained(\"answerdotai/ModernBERT-base\", torch_dtype=dtype).to(device)\n",
    "tokenizer = AutoTokenizer.from_pretrained(\"answerdotai/ModernBERT-base\", torch_dtype=dtype)\n",
    "\n",
    "scheduler = FlowMatchEulerDiscreteScheduler.from_pretrained(model, subfolder=\"scheduler\")"
   ]
  },
  {
   "cell_type": "markdown",
   "id": "2239874e-8912-4d43-a18b-bc764091aecc",
   "metadata": {},
   "source": [
    "# Load dataset"
   ]
  },
  {
   "cell_type": "code",
   "execution_count": null,
   "id": "6faef1cf-1565-4957-a5ac-7d5a1f792d39",
   "metadata": {},
   "outputs": [
    {
     "data": {
      "application/vnd.jupyter.widget-view+json": {
       "model_id": "fb0e291582e54937b2f5d8f049e71a9f",
       "version_major": 2,
       "version_minor": 0
      },
      "text/plain": [
       "README.md:   0%|          | 0.00/563 [00:00<?, ?B/s]"
      ]
     },
     "metadata": {},
     "output_type": "display_data"
    },
    {
     "data": {
      "application/vnd.jupyter.widget-view+json": {
       "model_id": "550193575b3949698b1b2cee765b78e9",
       "version_major": 2,
       "version_minor": 0
      },
      "text/plain": [
       "Resolving data files:   0%|          | 0/31 [00:00<?, ?it/s]"
      ]
     },
     "metadata": {},
     "output_type": "display_data"
    },
    {
     "data": {
      "application/vnd.jupyter.widget-view+json": {
       "model_id": "c1fddcd5ac0f47c6b6381ddd307ee0f1",
       "version_major": 2,
       "version_minor": 0
      },
      "text/plain": [
       "Resolving data files:   0%|          | 0/31 [00:00<?, ?it/s]"
      ]
     },
     "metadata": {},
     "output_type": "display_data"
    },
    {
     "data": {
      "application/vnd.jupyter.widget-view+json": {
       "model_id": "b88a86323d4f42aebed8bec4259b3d9d",
       "version_major": 2,
       "version_minor": 0
      },
      "text/plain": [
       "Downloading data:   0%|          | 0/31 [00:00<?, ?files/s]"
      ]
     },
     "metadata": {},
     "output_type": "display_data"
    },
    {
     "data": {
      "application/vnd.jupyter.widget-view+json": {
       "model_id": "2ceff990c44b4d36a59423cd2f97af88",
       "version_major": 2,
       "version_minor": 0
      },
      "text/plain": [
       "train.0-00000-of-00003.parquet:   0%|          | 0.00/133M [00:00<?, ?B/s]"
      ]
     },
     "metadata": {},
     "output_type": "display_data"
    },
    {
     "data": {
      "application/vnd.jupyter.widget-view+json": {
       "model_id": "cfcd63fcbafa4a788490d88624794ce4",
       "version_major": 2,
       "version_minor": 0
      },
      "text/plain": [
       "train.0-00001-of-00003.parquet:   0%|          | 0.00/133M [00:00<?, ?B/s]"
      ]
     },
     "metadata": {},
     "output_type": "display_data"
    },
    {
     "data": {
      "application/vnd.jupyter.widget-view+json": {
       "model_id": "5ebd2c820dd14038b4da8b6df9fc02a2",
       "version_major": 2,
       "version_minor": 0
      },
      "text/plain": [
       "train.0-00002-of-00003.parquet:   0%|          | 0.00/133M [00:00<?, ?B/s]"
      ]
     },
     "metadata": {},
     "output_type": "display_data"
    },
    {
     "data": {
      "application/vnd.jupyter.widget-view+json": {
       "model_id": "76137f60a4474713a26e31cbcbe37d14",
       "version_major": 2,
       "version_minor": 0
      },
      "text/plain": [
       "train.1-00000-of-00003.parquet:   0%|          | 0.00/133M [00:00<?, ?B/s]"
      ]
     },
     "metadata": {},
     "output_type": "display_data"
    },
    {
     "data": {
      "application/vnd.jupyter.widget-view+json": {
       "model_id": "60ae6c9952d5407fbc682dd7fd865e1d",
       "version_major": 2,
       "version_minor": 0
      },
      "text/plain": [
       "train.1-00001-of-00003.parquet:   0%|          | 0.00/133M [00:00<?, ?B/s]"
      ]
     },
     "metadata": {},
     "output_type": "display_data"
    },
    {
     "data": {
      "application/vnd.jupyter.widget-view+json": {
       "model_id": "4f3492e445e3423d853e530e9a0edc3e",
       "version_major": 2,
       "version_minor": 0
      },
      "text/plain": [
       "train.1-00002-of-00003.parquet:   0%|          | 0.00/133M [00:00<?, ?B/s]"
      ]
     },
     "metadata": {},
     "output_type": "display_data"
    },
    {
     "data": {
      "application/vnd.jupyter.widget-view+json": {
       "model_id": "b26712430b4d434abf927c58757d8deb",
       "version_major": 2,
       "version_minor": 0
      },
      "text/plain": [
       "train.10-00000-of-00001.parquet:   0%|          | 0.00/3.66M [00:00<?, ?B/s]"
      ]
     },
     "metadata": {},
     "output_type": "display_data"
    },
    {
     "data": {
      "application/vnd.jupyter.widget-view+json": {
       "model_id": "1b74827703f64adfb701e41d3571c267",
       "version_major": 2,
       "version_minor": 0
      },
      "text/plain": [
       "train.2-00000-of-00003.parquet:   0%|          | 0.00/133M [00:00<?, ?B/s]"
      ]
     },
     "metadata": {},
     "output_type": "display_data"
    },
    {
     "data": {
      "application/vnd.jupyter.widget-view+json": {
       "model_id": "67fdd58affec49c7a0b311a2857b95ba",
       "version_major": 2,
       "version_minor": 0
      },
      "text/plain": [
       "train.2-00001-of-00003.parquet:   0%|          | 0.00/133M [00:00<?, ?B/s]"
      ]
     },
     "metadata": {},
     "output_type": "display_data"
    },
    {
     "data": {
      "application/vnd.jupyter.widget-view+json": {
       "model_id": "a4c9bb315d994d11ae50c2a93efedb05",
       "version_major": 2,
       "version_minor": 0
      },
      "text/plain": [
       "train.2-00002-of-00003.parquet:   0%|          | 0.00/133M [00:00<?, ?B/s]"
      ]
     },
     "metadata": {},
     "output_type": "display_data"
    },
    {
     "data": {
      "application/vnd.jupyter.widget-view+json": {
       "model_id": "3cb896fd619c42e7be87c69e4c21f217",
       "version_major": 2,
       "version_minor": 0
      },
      "text/plain": [
       "train.3-00000-of-00003.parquet:   0%|          | 0.00/133M [00:00<?, ?B/s]"
      ]
     },
     "metadata": {},
     "output_type": "display_data"
    },
    {
     "data": {
      "application/vnd.jupyter.widget-view+json": {
       "model_id": "7bd429087f0143e19a690a1c3abc31a6",
       "version_major": 2,
       "version_minor": 0
      },
      "text/plain": [
       "train.3-00001-of-00003.parquet:   0%|          | 0.00/133M [00:00<?, ?B/s]"
      ]
     },
     "metadata": {},
     "output_type": "display_data"
    },
    {
     "data": {
      "application/vnd.jupyter.widget-view+json": {
       "model_id": "b8e5c6d067f04209b7f5e32ae7f88b15",
       "version_major": 2,
       "version_minor": 0
      },
      "text/plain": [
       "train.3-00002-of-00003.parquet:   0%|          | 0.00/133M [00:00<?, ?B/s]"
      ]
     },
     "metadata": {},
     "output_type": "display_data"
    },
    {
     "data": {
      "application/vnd.jupyter.widget-view+json": {
       "model_id": "061098e50cc64f74bd74b84e6e4e5ffe",
       "version_major": 2,
       "version_minor": 0
      },
      "text/plain": [
       "train.4-00000-of-00003.parquet:   0%|          | 0.00/133M [00:00<?, ?B/s]"
      ]
     },
     "metadata": {},
     "output_type": "display_data"
    },
    {
     "data": {
      "application/vnd.jupyter.widget-view+json": {
       "model_id": "f81b7b0fea9c4a5d87dcb763cde7428f",
       "version_major": 2,
       "version_minor": 0
      },
      "text/plain": [
       "train.4-00001-of-00003.parquet:   0%|          | 0.00/133M [00:00<?, ?B/s]"
      ]
     },
     "metadata": {},
     "output_type": "display_data"
    },
    {
     "data": {
      "application/vnd.jupyter.widget-view+json": {
       "model_id": "4442e5075115466da8e55a0df75e43be",
       "version_major": 2,
       "version_minor": 0
      },
      "text/plain": [
       "train.4-00002-of-00003.parquet:   0%|          | 0.00/133M [00:00<?, ?B/s]"
      ]
     },
     "metadata": {},
     "output_type": "display_data"
    },
    {
     "data": {
      "application/vnd.jupyter.widget-view+json": {
       "model_id": "264536bbeec74901b30414b2f77c0c70",
       "version_major": 2,
       "version_minor": 0
      },
      "text/plain": [
       "train.5-00000-of-00003.parquet:   0%|          | 0.00/133M [00:00<?, ?B/s]"
      ]
     },
     "metadata": {},
     "output_type": "display_data"
    },
    {
     "data": {
      "application/vnd.jupyter.widget-view+json": {
       "model_id": "e4ad90bc028e43c6b08a7b1d791b4c87",
       "version_major": 2,
       "version_minor": 0
      },
      "text/plain": [
       "train.5-00001-of-00003.parquet:   0%|          | 0.00/133M [00:00<?, ?B/s]"
      ]
     },
     "metadata": {},
     "output_type": "display_data"
    },
    {
     "data": {
      "application/vnd.jupyter.widget-view+json": {
       "model_id": "ab5fe9b0962b4ca8b784faf3c0cf3ea0",
       "version_major": 2,
       "version_minor": 0
      },
      "text/plain": [
       "train.5-00002-of-00003.parquet:   0%|          | 0.00/133M [00:00<?, ?B/s]"
      ]
     },
     "metadata": {},
     "output_type": "display_data"
    },
    {
     "data": {
      "application/vnd.jupyter.widget-view+json": {
       "model_id": "446121dcc4d5422b817b24bf9dcdea50",
       "version_major": 2,
       "version_minor": 0
      },
      "text/plain": [
       "train.6-00000-of-00003.parquet:   0%|          | 0.00/133M [00:00<?, ?B/s]"
      ]
     },
     "metadata": {},
     "output_type": "display_data"
    },
    {
     "data": {
      "application/vnd.jupyter.widget-view+json": {
       "model_id": "0622290884fb4de3a110c50acb07e1b3",
       "version_major": 2,
       "version_minor": 0
      },
      "text/plain": [
       "train.6-00001-of-00003.parquet:   0%|          | 0.00/133M [00:00<?, ?B/s]"
      ]
     },
     "metadata": {},
     "output_type": "display_data"
    },
    {
     "data": {
      "application/vnd.jupyter.widget-view+json": {
       "model_id": "abb028d4d4b241cd91d1ad7ee16c5bde",
       "version_major": 2,
       "version_minor": 0
      },
      "text/plain": [
       "train.6-00002-of-00003.parquet:   0%|          | 0.00/133M [00:00<?, ?B/s]"
      ]
     },
     "metadata": {},
     "output_type": "display_data"
    },
    {
     "data": {
      "application/vnd.jupyter.widget-view+json": {
       "model_id": "71880fc3d83444b18960cfe110889084",
       "version_major": 2,
       "version_minor": 0
      },
      "text/plain": [
       "train.7-00000-of-00003.parquet:   0%|          | 0.00/133M [00:00<?, ?B/s]"
      ]
     },
     "metadata": {},
     "output_type": "display_data"
    },
    {
     "data": {
      "application/vnd.jupyter.widget-view+json": {
       "model_id": "4ad6f64c03914ad7892ef312b72abd14",
       "version_major": 2,
       "version_minor": 0
      },
      "text/plain": [
       "train.7-00001-of-00003.parquet:   0%|          | 0.00/133M [00:00<?, ?B/s]"
      ]
     },
     "metadata": {},
     "output_type": "display_data"
    },
    {
     "data": {
      "application/vnd.jupyter.widget-view+json": {
       "model_id": "2cbaae160a124d63861bc587ffb687c6",
       "version_major": 2,
       "version_minor": 0
      },
      "text/plain": [
       "train.7-00002-of-00003.parquet:   0%|          | 0.00/133M [00:00<?, ?B/s]"
      ]
     },
     "metadata": {},
     "output_type": "display_data"
    },
    {
     "data": {
      "application/vnd.jupyter.widget-view+json": {
       "model_id": "cb0e8f26069c4d6e9dcc25e134bd6b71",
       "version_major": 2,
       "version_minor": 0
      },
      "text/plain": [
       "train.8-00000-of-00003.parquet:   0%|          | 0.00/133M [00:00<?, ?B/s]"
      ]
     },
     "metadata": {},
     "output_type": "display_data"
    },
    {
     "data": {
      "application/vnd.jupyter.widget-view+json": {
       "model_id": "a50b2d0e8ee1411bb39ee043a1a7e8e7",
       "version_major": 2,
       "version_minor": 0
      },
      "text/plain": [
       "train.8-00001-of-00003.parquet:   0%|          | 0.00/133M [00:00<?, ?B/s]"
      ]
     },
     "metadata": {},
     "output_type": "display_data"
    },
    {
     "data": {
      "application/vnd.jupyter.widget-view+json": {
       "model_id": "3d162a88c9c6461eb13f3e8f8aefec1d",
       "version_major": 2,
       "version_minor": 0
      },
      "text/plain": [
       "train.8-00002-of-00003.parquet:   0%|          | 0.00/133M [00:00<?, ?B/s]"
      ]
     },
     "metadata": {},
     "output_type": "display_data"
    },
    {
     "data": {
      "application/vnd.jupyter.widget-view+json": {
       "model_id": "5853bd76ec984f798c0282b87371ac4f",
       "version_major": 2,
       "version_minor": 0
      },
      "text/plain": [
       "train.9-00000-of-00003.parquet:   0%|          | 0.00/133M [00:00<?, ?B/s]"
      ]
     },
     "metadata": {},
     "output_type": "display_data"
    }
   ],
   "source": [
    "ds = load_dataset(\"g-ronimo/Imagenet-256-latents_dc-ae-f32c32-sana-1.0\")\n",
    "in_labels = load_imagenet_labels()\n",
    "in_labels_encoded={i: encode_prompt(in_labels[i], tokenizer, text_encoder) for i in tqdm(range(len(in_labels)))}\n",
    "len(in_labels_encoded[0]), in_labels_encoded[0][0].shape, in_labels_encoded[0][1].shape"
   ]
  },
  {
   "cell_type": "markdown",
   "id": "cb384ce1-f799-4cdd-8b0e-82c6422abde6",
   "metadata": {},
   "source": [
    "# Train data loaders and helper functions"
   ]
  },
  {
   "cell_type": "code",
   "execution_count": null,
   "id": "653ac467-1949-4e55-a4ea-5cd3dccfc72a",
   "metadata": {},
   "outputs": [],
   "source": [
    "def get_sample(split=\"train\", sample_no=None, bs=1):\n",
    "    assert not (bs>1 and sample_no is not None), \"Can't have fixed sample with BS>1\" \n",
    "\n",
    "    idcs = [random.randint(0, len(ds[split])-1) for _ in range(bs)]\n",
    "    labels = [ds[split][idx][\"label\"] for idx in idcs]\n",
    "    latents = torch.stack([torch.Tensor(ds[split][idx][\"latent\"]) for idx in idcs])\n",
    "    prompts_encoded = torch.cat([in_labels_encoded[label][0] for label in labels])\n",
    "    prompts_atnmask = torch.cat([in_labels_encoded[label][1] for label in labels])\n",
    "    \n",
    "    return labels, latents.to(dtype).to(device), prompts_encoded, prompts_atnmask\n",
    "\n",
    "labels, latents, prompts_encoded, prompts_atnmask = get_sample(bs=2)\n",
    "len(labels), latents.shape, prompts_encoded.shape, prompts_atnmask.shape"
   ]
  },
  {
   "cell_type": "code",
   "execution_count": null,
   "id": "670f601e-5383-4f49-8d6f-a534f42e63ce",
   "metadata": {},
   "outputs": [],
   "source": [
    "def eval_loss(num_samples=100):\n",
    "    losses = []\n",
    "    for i in tqdm(range(num_samples)):\n",
    "        label, latent, prompt_encoded, prompt_atnmask = get_sample(\"val\", i)\n",
    "        noise = torch.randn(latent.shape).to(dtype).to(device)\n",
    "        timestep = scheduler.timesteps[random.randint(0, diffuser_timesteps-1)].unsqueeze(0).to(device)\n",
    "        latent_noisy = scheduler.scale_noise(latent, timestep, noise)\n",
    "        with torch.no_grad():\n",
    "            noise_pred = transformer(latent_noisy, encoder_hidden_states = prompt_encoded, encoder_attention_mask = prompt_atnmask, timestep = timestep, return_dict=False)[0]\n",
    "        loss = F.mse_loss(noise_pred, noise - latent)\n",
    "        losses.append(loss.item())\n",
    "    return sum(losses)/len(losses)"
   ]
  },
  {
   "cell_type": "code",
   "execution_count": null,
   "id": "77a90e44-c1c3-4d53-967d-8c3158bcf484",
   "metadata": {},
   "outputs": [],
   "source": [
    "def generate(prompt, steps=10, latent_dim=[1, 32, 8, 8], latent_seed=42):\n",
    "    scheduler.set_timesteps(steps)\n",
    "    prompt_encoded, prompt_atnmask = encode_prompt(prompt, tokenizer, text_encoder)\n",
    "    latents = torch.randn(latent_dim, generator = torch.manual_seed(latent_seed) if latent_seed else None).to(dtype).to(device)\n",
    "\n",
    "    for t_idx in tqdm(range(steps)):\n",
    "        t = scheduler.timesteps[t_idx].unsqueeze(0).to(device)\n",
    "        with torch.no_grad():\n",
    "            noise_pred = transformer(latents, encoder_hidden_states=prompt_encoded, timestep=t, encoder_attention_mask=prompt_atnmask, return_dict=False)[0]\n",
    "        latents = scheduler.step(noise_pred, t, latents, return_dict=False)[0]\n",
    "    return latent_to_PIL(latents / dcae_scalingf, dcae)\n"
   ]
  },
  {
   "cell_type": "markdown",
   "id": "894d9761-8eaa-4f23-bfad-cc5fa3ce923f",
   "metadata": {},
   "source": [
    "# Train"
   ]
  },
  {
   "cell_type": "code",
   "execution_count": null,
   "id": "02081c1d-e87c-438c-a54f-81d9704125da",
   "metadata": {},
   "outputs": [],
   "source": [
    "log_wandb = True\n",
    "lr = 1e-4\n",
    "bs = 128\n",
    "epochs = 100\n",
    "diffuser_timesteps = 10\n",
    "\n",
    "steps_epoch = len(ds[\"train\"])\n",
    "steps_total = epochs * (steps_epoch // bs)\n",
    "steps_log = 20\n",
    "steps_eval = 200\n",
    "\n",
    "optimizer = torch.optim.AdamW(transformer.parameters(), lr=lr)\n",
    "scheduler.set_timesteps(diffuser_timesteps)\n",
    "\n",
    "transformer=transformer.to(dtype).train()\n",
    "\n",
    "model_size = sum(p.numel() for p in transformer.parameters() if p.requires_grad)\n",
    "print(f\"Number of parameters: {model_size / 1e6:.2f}M\")"
   ]
  },
  {
   "cell_type": "code",
   "execution_count": null,
   "id": "680e066f-ff72-4744-bf0c-a6fd090b4241",
   "metadata": {},
   "outputs": [],
   "source": [
    "if log_wandb: wandb.init(project=\"Hana\", name=f\"Z-{model_size / 1e6:.2f}M_IN_LR-{lr}_BS-{bs}_10-TS_runpod4090\").log_code(\".\", include_fn=lambda path: path.endswith(\".py\") or path.endswith(\".ipynb\") or path.endswith(\".json\"))\n",
    "\n",
    "t_start, last_step_time = time.time(), time.time()\n",
    "sample_count, losses = 0, []\n",
    "\n",
    "for step in range(1, steps_total + 1):\n",
    "    transformer.train()\n",
    "    labels, latents, prompts_encoded, prompts_atnmask = get_sample(bs=bs)\n",
    "    noise = torch.randn_like(latents)\n",
    "    timesteps = scheduler.timesteps[[random.randint(0, diffuser_timesteps-1) for _ in range(bs)]].to(device)\n",
    "    latents_noisy = scheduler.scale_noise(latents, timesteps, noise)\n",
    "    \n",
    "    noise_pred = transformer(\n",
    "        latents_noisy, \n",
    "        encoder_hidden_states = prompts_encoded, \n",
    "        encoder_attention_mask = prompts_atnmask, \n",
    "        timestep = timesteps, \n",
    "        return_dict=False\n",
    "    )[0]\n",
    "\n",
    "    loss = F.mse_loss(noise_pred, noise - latents)\n",
    "    loss.backward()\n",
    "    optimizer.step()\n",
    "    optimizer.zero_grad()\n",
    "    \n",
    "    losses.append(loss.item())\n",
    "    sample_count = step * bs    \n",
    "    epoch = sample_count / steps_epoch\n",
    "    \n",
    "    if step >0 and step % steps_log == 0:\n",
    "        loss_train = sum(losses[-steps_log:])/steps_log\n",
    "        step_time = (time.time() - last_step_time) / steps_log * 1000\n",
    "        sample_tp = bs * steps_log / (time.time() - last_step_time)\n",
    "        print(f\"step {step}, epoch: {epoch:.4f}, train loss {loss_train:.4f}, {step_time:.2f}ms/step, {sample_tp:.2f}samples/sec\")\n",
    "        if log_wandb: wandb.log({\"loss_train\": loss_train, \"step_time\": step_time, \"step\": step, \"epoch\": epoch, \"sample_tp\": sample_tp, \"sample_count\": sample_count})\n",
    "        last_step_time = time.time()\n",
    "\n",
    "    if step >0 and step % steps_eval == 0:\n",
    "        transformer.eval()\n",
    "        # images_eval = make_grid([generate(in_labels[p]) for p in range(20)], 4, 5)\n",
    "        # if log_wandb: wandb.log({\"images_eval\": wandb.Image(images_eval), \"step\": step, \"epoch\": epoch, \"sample_count\": sample_count})\n",
    "        loss_eval, images_eval = eval_loss(), make_grid([generate(in_labels[p]) for p in range(10)], 2, 5)\n",
    "        print(f\"step {step}, eval loss {loss_eval:.4f}\")\n",
    "        if log_wandb: wandb.log({\"loss_eval\": loss_eval, \"images_eval\": wandb.Image(images_eval), \"step\": step, \"epoch\": epoch, \"sample_count\": sample_count})\n"
   ]
  },
  {
   "cell_type": "code",
   "execution_count": null,
   "id": "de6ec19c-1862-4c89-b46d-6206fd4f8d07",
   "metadata": {},
   "outputs": [],
   "source": [
    "transformer.push_to_hub(f\"g-ronimo/hana-small_IN\")"
   ]
  },
  {
   "cell_type": "code",
   "execution_count": null,
   "id": "2429d2e8-546c-431d-a8a7-1391011d104d",
   "metadata": {},
   "outputs": [],
   "source": [
    "!runpodctl remove pod $RUNPOD_POD_ID"
   ]
  }
 ],
 "metadata": {
  "kernelspec": {
   "display_name": "Python 3 (ipykernel)",
   "language": "python",
   "name": "python3"
  },
  "language_info": {
   "codemirror_mode": {
    "name": "ipython",
    "version": 3
   },
   "file_extension": ".py",
   "mimetype": "text/x-python",
   "name": "python",
   "nbconvert_exporter": "python",
   "pygments_lexer": "ipython3",
   "version": "3.12.4"
  }
 },
 "nbformat": 4,
 "nbformat_minor": 5
}
