{
 "cells": [
  {
   "cell_type": "code",
   "execution_count": null,
   "id": "7138987f-193f-4c7b-b724-ab463280daec",
   "metadata": {},
   "outputs": [],
   "source": [
    "!pip install -U transformers accelerate datasets diffusers Pillow==9.4.0\n",
    "from local_secrets import hf_token, wandb_key\n",
    "from huggingface_hub import login\n",
    "login(token=hf_token)"
   ]
  },
  {
   "cell_type": "code",
   "execution_count": 2,
   "id": "be73c8b4-161b-4de4-9fc4-c46e53401da1",
   "metadata": {},
   "outputs": [],
   "source": [
    "from utils import latent_to_PIL, dcae_scalingf, make_grid, batch_PIL_to_latent"
   ]
  },
  {
   "cell_type": "code",
   "execution_count": 3,
   "id": "b488ce39-f409-44c6-9aa2-a3ee3e2c0aa6",
   "metadata": {},
   "outputs": [
    {
     "data": {
      "application/vnd.jupyter.widget-view+json": {
       "model_id": "1ea9610f7dc34486b01ebb2bf64f05a8",
       "version_major": 2,
       "version_minor": 0
      },
      "text/plain": [
       "README.md:   0%|          | 0.00/42.8k [00:00<?, ?B/s]"
      ]
     },
     "metadata": {},
     "output_type": "display_data"
    },
    {
     "data": {
      "application/vnd.jupyter.widget-view+json": {
       "model_id": "4199aa1775c340ff9bef6ab8e38c7dd5",
       "version_major": 2,
       "version_minor": 0
      },
      "text/plain": [
       "Resolving data files:   0%|          | 0/52 [00:00<?, ?it/s]"
      ]
     },
     "metadata": {},
     "output_type": "display_data"
    },
    {
     "data": {
      "application/vnd.jupyter.widget-view+json": {
       "model_id": "775ab8466d1f4a25878a93609849e778",
       "version_major": 2,
       "version_minor": 0
      },
      "text/plain": [
       "Resolving data files:   0%|          | 0/52 [00:00<?, ?it/s]"
      ]
     },
     "metadata": {},
     "output_type": "display_data"
    }
   ],
   "source": [
    "from datasets import load_dataset, Dataset, DatasetDict\n",
    "\n",
    "ds = load_dataset(\"evanarlian/imagenet_1k_resized_256\", streaming=True)"
   ]
  },
  {
   "cell_type": "code",
   "execution_count": 4,
   "id": "e2b8c7ed-afd0-4b40-8ba9-f12522866e38",
   "metadata": {},
   "outputs": [
    {
     "data": {
      "application/vnd.jupyter.widget-view+json": {
       "model_id": "61e1958460284e738f309902f5548f49",
       "version_major": 2,
       "version_minor": 0
      },
      "text/plain": [
       "vae/config.json:   0%|          | 0.00/1.28k [00:00<?, ?B/s]"
      ]
     },
     "metadata": {},
     "output_type": "display_data"
    },
    {
     "data": {
      "application/vnd.jupyter.widget-view+json": {
       "model_id": "6ba413acad5c46ab8171a6f28ca51f6a",
       "version_major": 2,
       "version_minor": 0
      },
      "text/plain": [
       "diffusion_pytorch_model.safetensors:   0%|          | 0.00/1.25G [00:00<?, ?B/s]"
      ]
     },
     "metadata": {},
     "output_type": "display_data"
    }
   ],
   "source": [
    "import torch\n",
    "from diffusers import AutoencoderDC\n",
    "\n",
    "dtype = torch.bfloat16\n",
    "device = \"cuda\" if torch.cuda.is_available() else \"mps\" if torch.mps.is_available() else \"cpu\"\n",
    "\n",
    "model = \"Efficient-Large-Model/Sana_600M_1024px_diffusers\"\n",
    "dcae = AutoencoderDC.from_pretrained(model, subfolder=\"vae\", torch_dtype=dtype).to(device)"
   ]
  },
  {
   "cell_type": "code",
   "execution_count": null,
   "id": "69e91361-4109-4fa0-ba19-5b96598dad88",
   "metadata": {},
   "outputs": [],
   "source": [
    "from tqdm import tqdm\n",
    "\n",
    "hf_dataset = \"g-ronimo/Imagenet-256-latents_dc-ae-f32c32-sana-1.0\"\n",
    "# hf_dataset = \"g-ronimo/test2\"\n",
    "bs = 128\n",
    "# upload_every = 20\n",
    "splits = [\"train\", \"test\"]\n",
    "\n",
    "for split in splits:\n",
    "    num_batches=ds[split].info.splits[split].num_examples//bs\n",
    "    upload_every = num_batches // 10\n",
    "    ds_latents = []\n",
    "    ds_part = 0\n",
    "    print(f\"split {split}, total batches {num_batches}, uploading every {upload_every}\")\n",
    "    \n",
    "    for b_no, batch in tqdm(enumerate(ds[split].batch(batch_size=bs)), total=num_batches):\n",
    "        images, labels = batch[\"image\"], batch[\"label\"]\n",
    "        latents = batch_PIL_to_latent(images, dcae).float().cpu()\n",
    "        for idx in range(len(labels)):\n",
    "            label, latent = labels[idx], latents[idx,]\n",
    "            ds_latents.append({\"label\": label, \"latent\": latent.numpy()})\n",
    "        if (b_no+1) % upload_every == 0:\n",
    "            print(f\"Uploading part {ds_part} of split {split} to {hf_dataset}\")\n",
    "            Dataset.from_list(ds_latents).push_to_hub(hf_dataset, split=f\"{split}.{ds_part}\")\n",
    "            ds_part+=1\n",
    "            ds_latents=[]\n",
    "    print(f\"Uploading part {ds_part} of split {split} to {hf_dataset}\")\n",
    "    Dataset.from_list(ds_latents).push_to_hub(hf_dataset, split=f\"{split}.{ds_part}\")\n",
    "\n"
   ]
  },
  {
   "cell_type": "code",
   "execution_count": null,
   "id": "438ca582-f2c4-4d47-93ca-f2d82d7fcffd",
   "metadata": {},
   "outputs": [],
   "source": [
    "!runpodctl remove pod $RUNPOD_POD_ID"
   ]
  },
  {
   "cell_type": "markdown",
   "id": "27831474-e5d5-4054-8be0-884f1f324f7a",
   "metadata": {},
   "source": [
    "# Update: found a mistake\n",
    "Used the wrong eval split, the one I took `test` does not contains labels, I need `val`"
   ]
  },
  {
   "cell_type": "code",
   "execution_count": 6,
   "id": "45f37380-7607-447d-a7f5-f253547a2742",
   "metadata": {},
   "outputs": [
    {
     "name": "stdout",
     "output_type": "stream",
     "text": [
      "split val, total batches 390\n"
     ]
    },
    {
     "name": "stderr",
     "output_type": "stream",
     "text": [
      "391it [05:56,  1.10it/s]                         \n"
     ]
    }
   ],
   "source": [
    "from tqdm import tqdm\n",
    "\n",
    "hf_dataset = \"g-ronimo/Imagenet-256-latents_dc-ae-f32c32-sana-1.0\"\n",
    "bs = 128\n",
    "splits = [\"val\"]\n",
    "\n",
    "for split in splits:\n",
    "    num_batches=ds[split].info.splits[split].num_examples//bs\n",
    "    ds_latents = []\n",
    "    ds_part = 0\n",
    "    print(f\"split {split}, total batches {num_batches}\")\n",
    "    \n",
    "    for b_no, batch in tqdm(enumerate(ds[split].batch(batch_size=bs)), total=num_batches):\n",
    "        images, labels = batch[\"image\"], batch[\"label\"]\n",
    "        latents = batch_PIL_to_latent(images, dcae).float().cpu()\n",
    "        for idx in range(len(labels)):\n",
    "            label, latent = labels[idx], latents[idx,]\n",
    "            ds_latents.append({\"label\": label, \"latent\": latent.numpy()})"
   ]
  },
  {
   "cell_type": "code",
   "execution_count": 7,
   "id": "9b65aff4-38d7-42da-a977-c5f17efd39a1",
   "metadata": {},
   "outputs": [
    {
     "name": "stdout",
     "output_type": "stream",
     "text": [
      "Uploading split val to g-ronimo/Imagenet-256-latents_dc-ae-f32c32-sana-1.0\n"
     ]
    },
    {
     "data": {
      "application/vnd.jupyter.widget-view+json": {
       "model_id": "a153a31df87344a698c557912d476293",
       "version_major": 2,
       "version_minor": 0
      },
      "text/plain": [
       "Uploading the dataset shards:   0%|          | 0/1 [00:00<?, ?it/s]"
      ]
     },
     "metadata": {},
     "output_type": "display_data"
    },
    {
     "data": {
      "application/vnd.jupyter.widget-view+json": {
       "model_id": "74df1f62a6ff47d9a6ef0af5bcedeeef",
       "version_major": 2,
       "version_minor": 0
      },
      "text/plain": [
       "Creating parquet from Arrow format:   0%|          | 0/50 [00:00<?, ?ba/s]"
      ]
     },
     "metadata": {},
     "output_type": "display_data"
    },
    {
     "data": {
      "application/vnd.jupyter.widget-view+json": {
       "model_id": "90d6eac8479c4918ab1998b63a16cc76",
       "version_major": 2,
       "version_minor": 0
      },
      "text/plain": [
       "README.md:   0%|          | 0.00/464 [00:00<?, ?B/s]"
      ]
     },
     "metadata": {},
     "output_type": "display_data"
    },
    {
     "data": {
      "text/plain": [
       "CommitInfo(commit_url='https://huggingface.co/datasets/g-ronimo/Imagenet-256-latents_dc-ae-f32c32-sana-1.0/commit/a2344b1a443b632c0a33ec8b600224767afdf813', commit_message='Upload dataset', commit_description='', oid='a2344b1a443b632c0a33ec8b600224767afdf813', pr_url=None, repo_url=RepoUrl('https://huggingface.co/datasets/g-ronimo/Imagenet-256-latents_dc-ae-f32c32-sana-1.0', endpoint='https://huggingface.co', repo_type='dataset', repo_id='g-ronimo/Imagenet-256-latents_dc-ae-f32c32-sana-1.0'), pr_revision=None, pr_num=None)"
      ]
     },
     "execution_count": 7,
     "metadata": {},
     "output_type": "execute_result"
    }
   ],
   "source": [
    "print(f\"Uploading split {split} to {hf_dataset}\")\n",
    "Dataset.from_list(ds_latents).push_to_hub(hf_dataset, split=f\"{split}\")"
   ]
  }
 ],
 "metadata": {
  "kernelspec": {
   "display_name": "Python 3 (ipykernel)",
   "language": "python",
   "name": "python3"
  },
  "language_info": {
   "codemirror_mode": {
    "name": "ipython",
    "version": 3
   },
   "file_extension": ".py",
   "mimetype": "text/x-python",
   "name": "python",
   "nbconvert_exporter": "python",
   "pygments_lexer": "ipython3",
   "version": "3.10.12"
  }
 },
 "nbformat": 4,
 "nbformat_minor": 5
}
