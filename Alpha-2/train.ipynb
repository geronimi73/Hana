{
 "cells": [
  {
   "cell_type": "code",
   "execution_count": null,
   "id": "610d29a7-90d0-4aea-a535-56f2ee26145c",
   "metadata": {},
   "outputs": [],
   "source": [
    "# !pip install transformers accelerate datasets diffusers Pillow==9.4.0 wandb"
   ]
  },
  {
   "cell_type": "code",
   "execution_count": null,
   "id": "7a076321-f9eb-4f7d-b3fd-a0b0b418d683",
   "metadata": {},
   "outputs": [],
   "source": [
    "# from local_secrets import hf_token, wandb_key\n",
    "# from huggingface_hub import login\n",
    "# import wandb\n",
    "\n",
    "# login(token=hf_token)\n",
    "# wandb.login(key=wandb_key)"
   ]
  },
  {
   "cell_type": "code",
   "execution_count": null,
   "id": "60395d2d-a5f3-432d-9d29-cc3e6adf8774",
   "metadata": {},
   "outputs": [],
   "source": [
    "import torch, torch.nn.functional as F, random, wandb, time\n",
    "import torchvision.transforms as T\n",
    "from diffusers import AutoencoderDC, SanaTransformer2DModel\n",
    "from diffusers.schedulers import FlowMatchEulerDiscreteScheduler\n",
    "from transformers import Gemma2Model, GemmaTokenizerFast\n",
    "from datasets import load_dataset, Dataset, DatasetDict\n",
    "from tqdm import tqdm\n",
    "\n",
    "from utils import PIL_to_latent, latent_to_PIL, make_grid, encode_prompt, dcae_scalingf"
   ]
  },
  {
   "cell_type": "code",
   "execution_count": null,
   "id": "539a7f32-9159-48ca-9706-5b0566415fa4",
   "metadata": {},
   "outputs": [],
   "source": [
    "model = \"Efficient-Large-Model/Sana_600M_1024px_diffusers\"\n",
    "dtype = torch.bfloat16\n",
    "device = \"cuda\" if torch.cuda.is_available() else \"mps\" if torch.mps.is_available() else \"cpu\"\n",
    "\n",
    "transformer = SanaTransformer2DModel.from_config(\"transformer_Sana-7-Layers_config.json\", torch_dtype=dtype).to(device)\n",
    "\n",
    "dcae = AutoencoderDC.from_pretrained(model, subfolder=\"vae\", torch_dtype=dtype).to(device)\n",
    "text_encoder = Gemma2Model.from_pretrained(model, subfolder=\"text_encoder\", torch_dtype=dtype).to(device)\n",
    "tokenizer = GemmaTokenizerFast.from_pretrained(model, subfolder=\"tokenizer\", torch_dtype=dtype)\n",
    "scheduler = FlowMatchEulerDiscreteScheduler.from_pretrained(model, subfolder=\"scheduler\")"
   ]
  },
  {
   "cell_type": "markdown",
   "id": "2239874e-8912-4d43-a18b-bc764091aecc",
   "metadata": {},
   "source": [
    "# Load dataset"
   ]
  },
  {
   "cell_type": "code",
   "execution_count": null,
   "id": "cac1606a-db13-4d7d-868e-52ed9d1f6738",
   "metadata": {},
   "outputs": [],
   "source": [
    "ds = load_dataset(\"g-ronimo/MNIST-latents_dc-ae-f32c32-sana-1.0\")\n",
    "\n",
    "mnist_labels_encoded={i: encode_prompt(str(i), tokenizer, text_encoder) for i in range(10)}\n",
    "\n",
    "len(mnist_labels_encoded[0]), mnist_labels_encoded[0][0].shape, mnist_labels_encoded[0][1].shape"
   ]
  },
  {
   "cell_type": "markdown",
   "id": "cb384ce1-f799-4cdd-8b0e-82c6422abde6",
   "metadata": {},
   "source": [
    "# Train data loaders and helper functions"
   ]
  },
  {
   "cell_type": "code",
   "execution_count": null,
   "id": "653ac467-1949-4e55-a4ea-5cd3dccfc72a",
   "metadata": {},
   "outputs": [],
   "source": [
    "def get_sample(split=\"train\", sample_no=None, bs=1):\n",
    "    assert not (bs>1 and sample_no is not None), \"Can't have fixed sample with BS>1\" \n",
    "\n",
    "    idcs = [random.randint(0, len(ds[split])-1) for _ in range(bs)]\n",
    "    labels = [ds[split][idx][\"label\"] for idx in idcs]\n",
    "    latents = torch.cat([torch.Tensor(ds[split][idx][\"latent\"]) for idx in idcs])\n",
    "    prompts_encoded = torch.cat([mnist_labels_encoded[label][0] for label in labels])\n",
    "    prompts_atnmask = torch.cat([mnist_labels_encoded[label][1] for label in labels])\n",
    "    \n",
    "    return labels, latents.to(dtype).to(device), prompts_encoded, prompts_atnmask"
   ]
  },
  {
   "cell_type": "code",
   "execution_count": null,
   "id": "670f601e-5383-4f49-8d6f-a534f42e63ce",
   "metadata": {},
   "outputs": [],
   "source": [
    "def eval_loss(num_samples=100):\n",
    "    losses = []\n",
    "    for i in tqdm(range(num_samples)):\n",
    "        label, latent, prompt_encoded, prompt_atnmask = get_sample(\"test\", i)\n",
    "        noise = torch.randn(latent.shape).to(dtype).to(device)\n",
    "        timestep = scheduler.timesteps[random.randint(0, diffuser_timesteps-1)].unsqueeze(0).to(device)\n",
    "        # timestep = scheduler.timesteps[[random.randint(0, diffuser_timesteps-1) for _ in range(bs)]].to(device)\n",
    "        latent_noisy = scheduler.scale_noise(latent, timestep, noise)\n",
    "        with torch.no_grad():\n",
    "            noise_pred = transformer(latent_noisy, encoder_hidden_states = prompt_encoded, encoder_attention_mask = prompt_atnmask, timestep = timestep, return_dict=False)[0]\n",
    "        loss = F.mse_loss(noise_pred, noise - latent)\n",
    "        losses.append(loss.item())\n",
    "    return sum(losses)/len(losses)"
   ]
  },
  {
   "cell_type": "code",
   "execution_count": null,
   "id": "77a90e44-c1c3-4d53-967d-8c3158bcf484",
   "metadata": {},
   "outputs": [],
   "source": [
    "def generate(prompt, steps=10, latent_dim=[1, 32, 8, 8], latent_seed=42):\n",
    "    scheduler.set_timesteps(steps)\n",
    "    prompt_encoded, prompt_atnmask = encode_prompt(prompt, tokenizer, text_encoder)\n",
    "    latents = torch.randn(latent_dim, generator = torch.manual_seed(latent_seed) if latent_seed else None).to(dtype).to(device)\n",
    "\n",
    "    for t_idx in tqdm(range(steps)):\n",
    "        t = scheduler.timesteps[t_idx].unsqueeze(0).to(device)\n",
    "        with torch.no_grad():\n",
    "            noise_pred = transformer(latents, encoder_hidden_states=prompt_encoded, timestep=t, encoder_attention_mask=prompt_atnmask, return_dict=False)[0]\n",
    "        latents = scheduler.step(noise_pred, t, latents, return_dict=False)[0]\n",
    "    return latent_to_PIL(latents / dcae_scalingf, dcae)\n"
   ]
  },
  {
   "cell_type": "markdown",
   "id": "894d9761-8eaa-4f23-bfad-cc5fa3ce923f",
   "metadata": {},
   "source": [
    "# Train"
   ]
  },
  {
   "cell_type": "code",
   "execution_count": null,
   "id": "02081c1d-e87c-438c-a54f-81d9704125da",
   "metadata": {},
   "outputs": [],
   "source": [
    "# seem like Sana600m was trained with a pretty high learning rate: https://github.com/NVlabs/Sana/blob/main/configs/sana_config/512ms/Sana_600M_img512.yaml\n",
    "# lr = 1e-5  \n",
    "log_wandb = True\n",
    "lr = 1e-4\n",
    "epochs = 5\n",
    "steps_epoch = len(ds[\"train\"])\n",
    "steps_total = epochs * steps_epoch\n",
    "steps_log = 20\n",
    "steps_eval = 200\n",
    "bs = 160\n",
    "diffuser_timesteps = 10\n",
    "\n",
    "optimizer = torch.optim.AdamW(transformer.parameters(), lr=lr)\n",
    "scheduler.set_timesteps(diffuser_timesteps)\n",
    "\n",
    "transformer=transformer.to(dtype).train()\n",
    "\n",
    "model_size = sum(p.numel() for p in transformer.parameters() if p.requires_grad)\n",
    "print(f\"Number of parameters: {model_size / 1e6:.2f}M\")"
   ]
  },
  {
   "cell_type": "code",
   "execution_count": null,
   "id": "680e066f-ff72-4744-bf0c-a6fd090b4241",
   "metadata": {},
   "outputs": [],
   "source": [
    "if log_wandb: wandb.init(project=\"Hana\", name=f\"Z-{model_size / 1e6:.2f}M_MNIST_LR-{lr}_BS-{bs}_10-TS\").log_code(\".\")\n",
    "\n",
    "t_start, last_step_time = time.time(), time.time()\n",
    "sample_count, losses = 0, []\n",
    "\n",
    "for step in range(1, steps_total + 1):\n",
    "    transformer.train()\n",
    "    labels, latents, prompts_encoded, prompts_atnmask = get_sample(bs=bs)\n",
    "    noise = torch.randn_like(latents)\n",
    "    timesteps = scheduler.timesteps[[random.randint(0, diffuser_timesteps-1) for _ in range(bs)]].to(device)\n",
    "    latents_noisy = scheduler.scale_noise(latents, timesteps, noise)\n",
    "    \n",
    "    noise_pred = transformer(\n",
    "        latents_noisy, \n",
    "        encoder_hidden_states = prompts_encoded, \n",
    "        encoder_attention_mask = prompts_atnmask, \n",
    "        timestep = timesteps, \n",
    "        return_dict=False\n",
    "    )[0]\n",
    "\n",
    "    loss = F.mse_loss(noise_pred, noise - latents)\n",
    "    loss.backward()\n",
    "    optimizer.step()\n",
    "    optimizer.zero_grad()\n",
    "    \n",
    "    losses.append(loss.item())\n",
    "    sample_count = step * bs    \n",
    "    epoch = sample_count / steps_epoch\n",
    "    \n",
    "    if step >0 and step % steps_log == 0:\n",
    "        loss_train = sum(losses[-steps_log:])/steps_log\n",
    "        step_time = (time.time() - last_step_time) / steps_log * 1000\n",
    "        sample_tp = bs * steps_log / (time.time() - last_step_time)\n",
    "        print(f\"step {step}, epoch: {epoch:.4f}, train loss {loss_train:.4f}, {step_time:.2f}ms/step, {sample_tp:.2f}samples/sec\")\n",
    "        if log_wandb: wandb.log({\"loss_train\": loss_train, \"step_time\": step_time, \"step\": step, \"epoch\": epoch, \"sample_tp\": sample_tp, \"sample_count\": sample_count})\n",
    "        last_step_time = time.time()\n",
    "\n",
    "    if step >0 and step % steps_eval == 0:\n",
    "        transformer.eval()\n",
    "        loss_eval, images_eval = eval_loss(), make_grid([generate(str(p)) for p in range(10)], 2, 5)\n",
    "        print(f\"step {step}, eval loss {loss_eval:.4f}\")\n",
    "        if log_wandb: wandb.log({\"loss_eval\": loss_eval, \"images_eval\": wandb.Image(images_eval), \"step\": step, \"epoch\": epoch, \"sample_count\": sample_count})\n"
   ]
  },
  {
   "cell_type": "code",
   "execution_count": null,
   "id": "de6ec19c-1862-4c89-b46d-6206fd4f8d07",
   "metadata": {},
   "outputs": [],
   "source": [
    "# transformer.push_to_hub(f\"g-ronimo/hana-small_MNIST-BATCHED\")"
   ]
  },
  {
   "cell_type": "code",
   "execution_count": null,
   "id": "2429d2e8-546c-431d-a8a7-1391011d104d",
   "metadata": {},
   "outputs": [],
   "source": [
    "# !runpodctl remove pod $RUNPOD_POD_ID"
   ]
  }
 ],
 "metadata": {
  "kernelspec": {
   "display_name": "Python 3 (ipykernel)",
   "language": "python",
   "name": "python3"
  },
  "language_info": {
   "codemirror_mode": {
    "name": "ipython",
    "version": 3
   },
   "file_extension": ".py",
   "mimetype": "text/x-python",
   "name": "python",
   "nbconvert_exporter": "python",
   "pygments_lexer": "ipython3",
   "version": "3.12.4"
  }
 },
 "nbformat": 4,
 "nbformat_minor": 5
}
