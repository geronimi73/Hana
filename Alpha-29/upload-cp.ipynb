{
 "cells": [
  {
   "cell_type": "code",
   "execution_count": 5,
   "id": "e9ca0818-b89c-49e0-8241-cbd642465151",
   "metadata": {},
   "outputs": [],
   "source": [
    "from diffusers import SanaTransformer2DModel\n",
    "import torch"
   ]
  },
  {
   "cell_type": "code",
   "execution_count": 6,
   "id": "534877bb-6a37-470c-97cf-5ea27f732e7f",
   "metadata": {},
   "outputs": [],
   "source": [
    "transformer = SanaTransformer2DModel.from_pretrained(\"./cp-e102\").to(torch.bfloat16)"
   ]
  },
  {
   "cell_type": "code",
   "execution_count": 7,
   "id": "73655332-9a69-42d0-a4ee-80240cad446f",
   "metadata": {},
   "outputs": [
    {
     "data": {
      "application/vnd.jupyter.widget-view+json": {
       "model_id": "b9f763a7090f414ba9abea9943a6fe5c",
       "version_major": 2,
       "version_minor": 0
      },
      "text/plain": [
       "diffusion_pytorch_model.safetensors:   0%|          | 0.00/251M [00:00<?, ?B/s]"
      ]
     },
     "metadata": {},
     "output_type": "display_data"
    },
    {
     "data": {
      "text/plain": [
       "CommitInfo(commit_url='https://huggingface.co/g-ronimo/hana-alpha29/commit/7e01886b1027b073ec2f01dcc4391681b0836b74', commit_message='Upload model', commit_description='', oid='7e01886b1027b073ec2f01dcc4391681b0836b74', pr_url=None, repo_url=RepoUrl('https://huggingface.co/g-ronimo/hana-alpha29', endpoint='https://huggingface.co', repo_type='model', repo_id='g-ronimo/hana-alpha29'), pr_revision=None, pr_num=None)"
      ]
     },
     "execution_count": 7,
     "metadata": {},
     "output_type": "execute_result"
    }
   ],
   "source": [
    "transformer.push_to_hub(\"g-ronimo/hana-alpha29\")"
   ]
  }
 ],
 "metadata": {
  "kernelspec": {
   "display_name": "Python 3 (ipykernel)",
   "language": "python",
   "name": "python3"
  },
  "language_info": {
   "codemirror_mode": {
    "name": "ipython",
    "version": 3
   },
   "file_extension": ".py",
   "mimetype": "text/x-python",
   "name": "python",
   "nbconvert_exporter": "python",
   "pygments_lexer": "ipython3",
   "version": "3.10.12"
  }
 },
 "nbformat": 4,
 "nbformat_minor": 5
}
